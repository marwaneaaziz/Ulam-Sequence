{
 "cells": [
  {
   "cell_type": "markdown",
   "id": "threaded-substitute",
   "metadata": {},
   "source": [
    "This attempt is based on the following generalization on Ulam numbers :\n",
    "For Ulam(2,b) if b is congruent to 1 (mod 4) and at least five, then the sequence of the Ulam numbers are regular and the sequence contains only 2 even terms 2 and 2v+2, prooved by Cassaigne and Finch (1995)\n",
    "\n",
    "Thus in order to gain in time complexity after finding the two first even Ulam numbers of the sequence we will only look for the odd sums in order to find the next Ulams"
   ]
  },
  {
   "cell_type": "code",
   "execution_count": 44,
   "id": "assumed-plate",
   "metadata": {},
   "outputs": [],
   "source": [
    "#filter a list of integers to return a list containing only even numbers\n",
    "def find_even(l):\n",
    "    return list(filter(lambda a: a%2==0, l))"
   ]
  },
  {
   "cell_type": "code",
   "execution_count": 45,
   "id": "collaborative-equilibrium",
   "metadata": {},
   "outputs": [],
   "source": [
    "#return the minimum of a list of integers which has only one occurence\n",
    "def min_with_one_occurence(list_sum):\n",
    "    m = min(list_sum)\n",
    "    while(list_sum.count(m) > 1):\n",
    "        #if the current min has multiple occurences, remove them from next iteration\n",
    "        list_sum = list(filter(lambda a: a!=m, list_sum))\n",
    "        m = min(list_sum)\n",
    "    return m"
   ]
  },
  {
   "cell_type": "code",
   "execution_count": 46,
   "id": "unauthorized-characteristic",
   "metadata": {},
   "outputs": [],
   "source": [
    "#the ulam sequence contains only two even numbers, this function is to add number to the sequence until it has two even numbers\n",
    "def add_number_until_two_even_in_sequence(l):\n",
    "    while len(find_even(l)) < 2:\n",
    "        list_sum=[]\n",
    "        for i in range(len(l)):\n",
    "            for j in range(i+1,len(l)):\n",
    "                sum_number = l[i]+l[j]\n",
    "                if sum_number > l[-1]:\n",
    "                    list_sum.append(sum_number)\n",
    "        ulam_number=min_with_one_occurence(list_sum)\n",
    "        l.append(ulam_number)\n",
    "    return l"
   ]
  },
  {
   "cell_type": "code",
   "execution_count": 47,
   "id": "celtic-sweden",
   "metadata": {},
   "outputs": [],
   "source": [
    "#list_sum contains sums between even numbers and the other elements of the sequence. Those sums are greater than the last element of the sequence and result in odd numbers only.\n",
    "def add_to_list_sum(element, l, list_even, list_sum):\n",
    "    if element not in list_even:\n",
    "        for i in range(2):\n",
    "            sum_numbers = element+list_even[i];\n",
    "            if sum_numbers%2!=0 and sum_numbers > l[-1]:\n",
    "                list_sum.append(element+list_even[i])\n",
    "    return list_sum"
   ]
  },
  {
   "cell_type": "code",
   "execution_count": 48,
   "id": "environmental-boutique",
   "metadata": {},
   "outputs": [],
   "source": [
    "#complete the sequence for k iterations with only odd numbers\n",
    "def add_only_odd_in_sequence(l, k):\n",
    "    list_even = find_even(l)\n",
    "    for i in range(k):\n",
    "        list_sum=[]\n",
    "        for element in l:\n",
    "            add_to_list_sum(element, l, list_even, list_sum)\n",
    "        ulam_number = min_with_one_occurence(list_sum)\n",
    "        l.append(ulam_number)\n",
    "    return l"
   ]
  },
  {
   "cell_type": "code",
   "execution_count": 49,
   "id": "funny-direction",
   "metadata": {},
   "outputs": [],
   "source": [
    "#this is the main function which returns the final sum (sum of the elements of the sequence)\n",
    "def get_ulam_sum(a,b,k):\n",
    "    sequence=[a,b]\n",
    "    add_number_until_two_even_in_sequence(sequence)\n",
    "    repeat=k-len(sequence)+2\n",
    "    sequence = add_only_odd_in_sequence(sequence,repeat)\n",
    "    print(sequence)\n",
    "    return sum(sequence)\n",
    "   "
   ]
  },
  {
   "cell_type": "markdown",
   "id": "phantom-cycle",
   "metadata": {},
   "source": [
    "This attempt seems to be more performent compared to the first one, however it is not enough to calculate the 10^11 numbers of a Ulam sequence, therefore the best idea would be to use the Theorem of Finch who proved that all sequences with start values (2,v) with v >= 5 have periodic differences\n"
   ]
  }
 ],
 "metadata": {
  "kernelspec": {
   "display_name": "Python 3",
   "language": "python",
   "name": "python3"
  },
  "language_info": {
   "codemirror_mode": {
    "name": "ipython",
    "version": 3
   },
   "file_extension": ".py",
   "mimetype": "text/x-python",
   "name": "python",
   "nbconvert_exporter": "python",
   "pygments_lexer": "ipython3",
   "version": "3.8.0"
  }
 },
 "nbformat": 4,
 "nbformat_minor": 5
}
