{
 "cells": [
  {
   "cell_type": "markdown",
   "id": "social-stomach",
   "metadata": {},
   "source": [
    "## Investigating Ulam Sequences\n"
   ]
  },
  {
   "cell_type": "code",
   "execution_count": 111,
   "id": "extensive-carrier",
   "metadata": {},
   "outputs": [],
   "source": [
    "## First we will be needing a function to find the minimum number of a list which occurs exactly one time\n",
    "def find_minimum_with_one_occurence(l):\n",
    "    t = min(l)\n",
    "    if l.count(t) == 1:\n",
    "        return (t)\n",
    "    else:\n",
    "        l = list(filter(lambda a: a != t, l))\n",
    "        return find_minimum_with_one_occurence(l)\n",
    "\n",
    "    "
   ]
  },
  {
   "cell_type": "code",
   "execution_count": 115,
   "id": "searching-complex",
   "metadata": {},
   "outputs": [],
   "source": [
    "## Function to calculate the Ulam number, takes as arguments the positive integers u and v and k the number of iterations\n",
    "def Ulam(u,v,k):\n",
    "    Ulam_liste = [u,v,u+v] #First the Ulam liste contains u and v and u+v naturally \n",
    "    for b in range(4,k+1): # looping over the number of Ulam numbers (k)\n",
    "        liste_des_sommes = [] # Initialing the list of sums of the previous Ulams \n",
    "        for j in range(len(Ulam_liste)): # Looping over the length of the Ulam liste\n",
    "            for i in range(j+1,len(Ulam_liste)): # Looping over all elements after the element at position j \n",
    "                if Ulam_liste[j]+Ulam_liste[i] > Ulam_liste[-1]: # Checking if the sum of the two elements is greater than the last Ulam \n",
    "                    liste_des_sommes.append(Ulam_liste[j]+Ulam_liste[i]) # If so adding the sum to the list of sums \n",
    "        #print(liste_des_sommes)            \n",
    "        next_Ulam = find_minimum_with_one_occurence(liste_des_sommes) # Applying the above function in order to find the minimum sum with exactly one occurence \n",
    "        Ulam_liste.append(next_Ulam) # Adding it to the Ulam_liste \n",
    "    return (Ulam_liste,sum(Ulam_liste))      \n",
    "            \n",
    "        \n",
    "            \n",
    "    "
   ]
  },
  {
   "cell_type": "code",
   "execution_count": 116,
   "id": "prime-transformation",
   "metadata": {},
   "outputs": [
    {
     "data": {
      "text/plain": [
       "([2, 5, 7, 9, 11, 12, 13, 15, 19, 23], 116)"
      ]
     },
     "execution_count": 116,
     "metadata": {},
     "output_type": "execute_result"
    }
   ],
   "source": [
    "Ulam(2,5,10)"
   ]
  },
  {
   "cell_type": "code",
   "execution_count": 113,
   "id": "inner-value",
   "metadata": {},
   "outputs": [
    {
     "ename": "KeyboardInterrupt",
     "evalue": "",
     "output_type": "error",
     "traceback": [
      "\u001b[1;31m---------------------------------------------------------------------------\u001b[0m",
      "\u001b[1;31mKeyboardInterrupt\u001b[0m                         Traceback (most recent call last)",
      "\u001b[1;32m<ipython-input-113-8934dc8bd73a>\u001b[0m in \u001b[0;36m<module>\u001b[1;34m\u001b[0m\n\u001b[0;32m      2\u001b[0m \u001b[0mresult\u001b[0m \u001b[1;33m=\u001b[0m \u001b[1;36m0\u001b[0m\u001b[1;33m\u001b[0m\u001b[1;33m\u001b[0m\u001b[0m\n\u001b[0;32m      3\u001b[0m \u001b[1;32mfor\u001b[0m \u001b[0mn\u001b[0m \u001b[1;32min\u001b[0m \u001b[0mrange\u001b[0m\u001b[1;33m(\u001b[0m\u001b[1;36m2\u001b[0m\u001b[1;33m,\u001b[0m\u001b[1;36m10\u001b[0m\u001b[1;33m)\u001b[0m\u001b[1;33m:\u001b[0m\u001b[1;33m\u001b[0m\u001b[1;33m\u001b[0m\u001b[0m\n\u001b[1;32m----> 4\u001b[1;33m      \u001b[0mresult\u001b[0m\u001b[1;33m+=\u001b[0m \u001b[0mUlam\u001b[0m\u001b[1;33m(\u001b[0m\u001b[1;36m2\u001b[0m\u001b[1;33m,\u001b[0m\u001b[1;36m2\u001b[0m\u001b[1;33m*\u001b[0m\u001b[0mn\u001b[0m\u001b[1;33m+\u001b[0m\u001b[1;36m1\u001b[0m\u001b[1;33m,\u001b[0m\u001b[1;36m10\u001b[0m\u001b[1;33m**\u001b[0m\u001b[1;36m11\u001b[0m\u001b[1;33m)\u001b[0m\u001b[1;33m\u001b[0m\u001b[1;33m\u001b[0m\u001b[0m\n\u001b[0m\u001b[0;32m      5\u001b[0m \u001b[1;33m\u001b[0m\u001b[0m\n",
      "\u001b[1;32m<ipython-input-112-9ddbb625aa84>\u001b[0m in \u001b[0;36mUlam\u001b[1;34m(u, v, k)\u001b[0m\n\u001b[0;32m      7\u001b[0m             \u001b[1;32mfor\u001b[0m \u001b[0mi\u001b[0m \u001b[1;32min\u001b[0m \u001b[0mrange\u001b[0m\u001b[1;33m(\u001b[0m\u001b[0mj\u001b[0m\u001b[1;33m+\u001b[0m\u001b[1;36m1\u001b[0m\u001b[1;33m,\u001b[0m\u001b[0mlen\u001b[0m\u001b[1;33m(\u001b[0m\u001b[0mUlam_liste\u001b[0m\u001b[1;33m)\u001b[0m\u001b[1;33m)\u001b[0m\u001b[1;33m:\u001b[0m \u001b[1;31m# Looping over all elements after the element at position j\u001b[0m\u001b[1;33m\u001b[0m\u001b[1;33m\u001b[0m\u001b[0m\n\u001b[0;32m      8\u001b[0m                 \u001b[1;32mif\u001b[0m \u001b[0mUlam_liste\u001b[0m\u001b[1;33m[\u001b[0m\u001b[0mj\u001b[0m\u001b[1;33m]\u001b[0m\u001b[1;33m+\u001b[0m\u001b[0mUlam_liste\u001b[0m\u001b[1;33m[\u001b[0m\u001b[0mi\u001b[0m\u001b[1;33m]\u001b[0m \u001b[1;33m>\u001b[0m \u001b[0mUlam_liste\u001b[0m\u001b[1;33m[\u001b[0m\u001b[1;33m-\u001b[0m\u001b[1;36m1\u001b[0m\u001b[1;33m]\u001b[0m\u001b[1;33m:\u001b[0m \u001b[1;31m# Checking if the sum of the two elements is greater than the last Ulam\u001b[0m\u001b[1;33m\u001b[0m\u001b[1;33m\u001b[0m\u001b[0m\n\u001b[1;32m----> 9\u001b[1;33m                     \u001b[0mliste_des_sommes\u001b[0m\u001b[1;33m.\u001b[0m\u001b[0mappend\u001b[0m\u001b[1;33m(\u001b[0m\u001b[0mUlam_liste\u001b[0m\u001b[1;33m[\u001b[0m\u001b[0mj\u001b[0m\u001b[1;33m]\u001b[0m\u001b[1;33m+\u001b[0m\u001b[0mUlam_liste\u001b[0m\u001b[1;33m[\u001b[0m\u001b[0mi\u001b[0m\u001b[1;33m]\u001b[0m\u001b[1;33m)\u001b[0m \u001b[1;31m# If so adding the sum to the list of sums\u001b[0m\u001b[1;33m\u001b[0m\u001b[1;33m\u001b[0m\u001b[0m\n\u001b[0m\u001b[0;32m     10\u001b[0m         \u001b[1;31m#print(liste_des_sommes)\u001b[0m\u001b[1;33m\u001b[0m\u001b[1;33m\u001b[0m\u001b[1;33m\u001b[0m\u001b[0m\n\u001b[0;32m     11\u001b[0m         \u001b[0mnext_Ulam\u001b[0m \u001b[1;33m=\u001b[0m \u001b[0mfind_minimum_with_one_occurence\u001b[0m\u001b[1;33m(\u001b[0m\u001b[0mliste_des_sommes\u001b[0m\u001b[1;33m)\u001b[0m \u001b[1;31m# Applying the above function in order to find the minimum sum with exactly one occurence\u001b[0m\u001b[1;33m\u001b[0m\u001b[1;33m\u001b[0m\u001b[0m\n",
      "\u001b[1;31mKeyboardInterrupt\u001b[0m: "
     ]
    }
   ],
   "source": [
    "## Loop to sum the Ulam numbers for 2=<n =<10\n",
    "result = 0\n",
    "for n in range(2,10):\n",
    "     result+= Ulam(2,2*n+1,10**11)\n",
    "    "
   ]
  },
  {
   "cell_type": "markdown",
   "id": "closed-order",
   "metadata": {},
   "source": [
    "This solution takes too much time and due to the size of the demanded magnitude is actually inapropriate to solve the problem "
   ]
  },
  {
   "cell_type": "code",
   "execution_count": null,
   "id": "artistic-conducting",
   "metadata": {},
   "outputs": [],
   "source": []
  },
  {
   "cell_type": "code",
   "execution_count": null,
   "id": "disabled-graduate",
   "metadata": {},
   "outputs": [],
   "source": []
  }
 ],
 "metadata": {
  "kernelspec": {
   "display_name": "Python 3",
   "language": "python",
   "name": "python3"
  },
  "language_info": {
   "codemirror_mode": {
    "name": "ipython",
    "version": 3
   },
   "file_extension": ".py",
   "mimetype": "text/x-python",
   "name": "python",
   "nbconvert_exporter": "python",
   "pygments_lexer": "ipython3",
   "version": "3.8.0"
  }
 },
 "nbformat": 4,
 "nbformat_minor": 5
}
